{
  "nbformat": 4,
  "nbformat_minor": 0,
  "metadata": {
    "colab": {
      "provenance": []
    },
    "kernelspec": {
      "name": "python3",
      "display_name": "Python 3"
    },
    "language_info": {
      "name": "python"
    }
  },
  "cells": [
    {
      "cell_type": "markdown",
      "source": [
        "## Symbolic regression approximation based on GA for DFT exchange-correlation functional from neural net"
      ],
      "metadata": {
        "id": "VrIExAA5cZcS"
      }
    },
    {
      "cell_type": "markdown",
      "source": [
        "В данном ноутбуке решается задача символьной регрессии для предсказания аналитического вида уравнений для обменно-корреляционного потенциала LDA, сгенерированного нейросетью из работы https://github.com/ml-electron-project/NNfunctional/tree/master. Данные, с которыми мы работали, были сгенерированы в ноутбуке \"Генерация нейросетевого потенциала\". Они представляют из себя зависимость Exc = f(ρ) полученную из расчета энергии молекулы  методом DFT с использованием указанного нейросетевого функционала.\n"
      ],
      "metadata": {
        "id": "q2dUqfulxLxo"
      }
    },
    {
      "cell_type": "code",
      "source": [
        "!pip install -q gplearn\n",
        "from sympy import *\n",
        "\n",
        "import numpy as np\n",
        "import pandas as pd\n",
        "\n",
        "from sklearn.linear_model import LinearRegression\n",
        "from gplearn.genetic import SymbolicTransformer\n",
        "from sklearn.utils import check_random_state\n",
        "from gplearn.functions import make_function\n",
        "\n",
        "import sklearn\n",
        "\n",
        "import matplotlib\n",
        "from matplotlib import pyplot as plt"
      ],
      "metadata": {
        "id": "48q3oy4ee9Ll"
      },
      "execution_count": null,
      "outputs": []
    },
    {
      "cell_type": "code",
      "source": [
        "import warnings\n",
        "warnings.filterwarnings(\"ignore\", category=UserWarning)\n",
        "warnings.filterwarnings(\"ignore\", category=RuntimeWarning)"
      ],
      "metadata": {
        "id": "mNvmYg9XfECp"
      },
      "execution_count": null,
      "outputs": []
    },
    {
      "cell_type": "markdown",
      "source": [
        "Для успешной аппроксимации необходимо добавить базисные функции"
      ],
      "metadata": {
        "id": "Jo6qrc7a1ctz"
      }
    },
    {
      "cell_type": "code",
      "source": [
        "#Function for appending basic function in functions set for approximations\n",
        "def add_func(func_names, funcs):\n",
        "  global function_set\n",
        "  for i in range(len(funcs)):\n",
        "\n",
        "    func_name = func_names[i]\n",
        "    func = funcs[i]\n",
        "    function = make_function(function=func, name=func_name, arity=1)\n",
        "\n",
        "    function_set.append(function)"
      ],
      "metadata": {
        "id": "PFz0G7B4e1vl"
      },
      "execution_count": null,
      "outputs": []
    },
    {
      "cell_type": "code",
      "source": [
        "function_set = ['add', 'sub', 'mul', 'div',\n",
        "                'sqrt', 'log', 'abs', 'neg', 'inv']"
      ],
      "metadata": {
        "id": "m35MgXRUgNok"
      },
      "execution_count": null,
      "outputs": []
    },
    {
      "cell_type": "code",
      "source": [
        "#Make some custom basic functions\n",
        "def square(x):\n",
        "  return x**2\n",
        "\n",
        "def pow3(x):\n",
        "  return x**3\n",
        "\n",
        "def exp(x):\n",
        "  return np.exp(x)\n",
        "\n",
        "def neg(x):\n",
        "  return -x\n",
        "\n",
        "def sub(x, y):\n",
        "  return x - y\n",
        "\n",
        "def add(x, y):\n",
        "  return x+y\n",
        "\n",
        "def inv(x):\n",
        "  return 1/x\n",
        "\n",
        "def scuare(x):\n",
        "  return x**2\n",
        "\n",
        "def div(x, y):\n",
        "  return x/y\n",
        "\n",
        "def mul(x, y):\n",
        "  return x*y\n",
        "\n",
        "def cbrt(x):\n",
        "  return np.cbrt(x)\n",
        "\n",
        "def pow4_3(x):\n",
        "  return x*np.cbrt(x)\n"
      ],
      "metadata": {
        "id": "7Z8U3Eoee19A"
      },
      "execution_count": null,
      "outputs": []
    },
    {
      "cell_type": "code",
      "source": [
        "converter = {\n",
        "    'sub': lambda x, y : x - y,\n",
        "    'div': lambda x, y : x/y,\n",
        "    'mul': lambda x, y : x*y,\n",
        "    'add': lambda x, y : x + y,\n",
        "    'neg': lambda x    : -x,\n",
        "    'pow': lambda x, y : x**y,\n",
        "    'sin': lambda x    : sin(x),\n",
        "    'cos': lambda x    : cos(x),\n",
        "    'inv': lambda x: 1/x,\n",
        "    'sqrt': lambda x: x**0.5,\n",
        "    'pow3': lambda x: x**3\n",
        "}"
      ],
      "metadata": {
        "id": "KdfqKDhyfet1"
      },
      "execution_count": null,
      "outputs": []
    },
    {
      "cell_type": "code",
      "source": [
        "add_func(['cbrt', 'exp', 'pow3', 'scuare', 'pow4_3'], [cbrt, exp, pow3, scuare, pow4_3])"
      ],
      "metadata": {
        "id": "r7gEAtmFfa3G"
      },
      "execution_count": null,
      "outputs": []
    },
    {
      "cell_type": "code",
      "source": [
        "function_set"
      ],
      "metadata": {
        "colab": {
          "base_uri": "https://localhost:8080/"
        },
        "id": "2voZtqBdkV3p",
        "outputId": "8554bfed-a8fc-4465-fdd9-982df9ac5843"
      },
      "execution_count": null,
      "outputs": [
        {
          "output_type": "execute_result",
          "data": {
            "text/plain": [
              "['add',\n",
              " 'sub',\n",
              " 'mul',\n",
              " 'div',\n",
              " 'sqrt',\n",
              " 'log',\n",
              " 'abs',\n",
              " 'neg',\n",
              " 'inv',\n",
              " <gplearn.functions._Function at 0x78f7e1395810>,\n",
              " <gplearn.functions._Function at 0x78f7e13957b0>,\n",
              " <gplearn.functions._Function at 0x78f7e1395ab0>,\n",
              " <gplearn.functions._Function at 0x78f7e1395720>,\n",
              " <gplearn.functions._Function at 0x78f7e1395930>]"
            ]
          },
          "metadata": {},
          "execution_count": 8
        }
      ]
    },
    {
      "cell_type": "code",
      "source": [
        "from sympy.abc import x\n",
        "from sympy import cse, sqrt, sin, pprint"
      ],
      "metadata": {
        "id": "fiOqUK_ViZuT"
      },
      "execution_count": null,
      "outputs": []
    },
    {
      "cell_type": "code",
      "source": [
        "def cbrt(x):\n",
        "  return x**(1/3)"
      ],
      "metadata": {
        "id": "ST_ntASPigZZ"
      },
      "execution_count": null,
      "outputs": []
    },
    {
      "cell_type": "markdown",
      "source": [
        "Импортируем датасет состоящий из значений плотности электронов и соответусвующих им значений обменно-корреляционной энергии"
      ],
      "metadata": {
        "id": "lRii-UDk1r9Q"
      }
    },
    {
      "cell_type": "code",
      "execution_count": null,
      "metadata": {
        "id": "6GvMXbdAcXhM"
      },
      "outputs": [],
      "source": [
        "#Reciave data with Exc(LDA) = f(rho), where f() is MLP\n",
        "df = pd.read_csv('/content/NN_functional.csv')\n",
        "table_init = df.copy()\n",
        "\n",
        "table = table_init[0:5000]\n",
        "table_test = table_init[5000:10000]\n",
        "\n",
        "rho_train, exc_train, rho_test, exc_test = table['x_0'].values, table['y'].values, table_test['x_0'].values, table_test['y'].values"
      ]
    },
    {
      "cell_type": "code",
      "source": [
        "np.shape(rho_train), np.shape(rho_test)"
      ],
      "metadata": {
        "colab": {
          "base_uri": "https://localhost:8080/"
        },
        "id": "mcZOtnqCfezc",
        "outputId": "e002586e-2c46-4e78-de2d-0ee8f35eeecd"
      },
      "execution_count": null,
      "outputs": [
        {
          "output_type": "execute_result",
          "data": {
            "text/plain": [
              "((5000,), (5000,))"
            ]
          },
          "metadata": {},
          "execution_count": 12
        }
      ]
    },
    {
      "cell_type": "markdown",
      "source": [
        "Следующая функция подбирает нелинейные преобразования над фичой"
      ],
      "metadata": {
        "id": "IdptGwlo1-az"
      }
    },
    {
      "cell_type": "code",
      "source": [
        "gp = SymbolicTransformer(generations=2, population_size=5000,\n",
        "                         hall_of_fame=20, n_components=1,\n",
        "                         function_set=function_set,\n",
        "                         parsimony_coefficient=0.001,\n",
        "                         max_samples=0.9, verbose=1,\n",
        "                         random_state=0)\n",
        "gp.fit(rho_train.reshape(-1, 1), exc_train)"
      ],
      "metadata": {
        "colab": {
          "base_uri": "https://localhost:8080/",
          "height": 161
        },
        "id": "5LvPrwupfwwJ",
        "outputId": "eaaf4189-9c62-47cb-812a-f1e2fc45353b"
      },
      "execution_count": null,
      "outputs": [
        {
          "output_type": "stream",
          "name": "stdout",
          "text": [
            "    |   Population Average    |             Best Individual              |\n",
            "---- ------------------------- ------------------------------------------ ----------\n",
            " Gen   Length          Fitness   Length          Fitness      OOB Fitness  Time Left\n",
            "   0     9.66         0.434966        5         0.999774          0.99978      9.53s\n",
            "   1     7.35         0.800843        9         0.999941         0.999937      0.00s\n"
          ]
        },
        {
          "output_type": "execute_result",
          "data": {
            "text/plain": [
              "SymbolicTransformer(function_set=['add', 'sub', 'mul', 'div', 'sqrt', 'log',\n",
              "                                  'abs', 'neg', 'inv',\n",
              "                                  <gplearn.functions._Function object at 0x78f7e1395810>,\n",
              "                                  <gplearn.functions._Function object at 0x78f7e13957b0>,\n",
              "                                  <gplearn.functions._Function object at 0x78f7e1395ab0>,\n",
              "                                  <gplearn.functions._Function object at 0x78f7e1395720>,\n",
              "                                  <gplearn.functions._Function object at 0x78f7e1395930>],\n",
              "                    generations=2, hall_of_fame=20, max_samples=0.9,\n",
              "                    n_components=1, population_size=5000, random_state=0,\n",
              "                    verbose=1)"
            ],
            "text/html": [
              "<style>#sk-container-id-1 {color: black;background-color: white;}#sk-container-id-1 pre{padding: 0;}#sk-container-id-1 div.sk-toggleable {background-color: white;}#sk-container-id-1 label.sk-toggleable__label {cursor: pointer;display: block;width: 100%;margin-bottom: 0;padding: 0.3em;box-sizing: border-box;text-align: center;}#sk-container-id-1 label.sk-toggleable__label-arrow:before {content: \"▸\";float: left;margin-right: 0.25em;color: #696969;}#sk-container-id-1 label.sk-toggleable__label-arrow:hover:before {color: black;}#sk-container-id-1 div.sk-estimator:hover label.sk-toggleable__label-arrow:before {color: black;}#sk-container-id-1 div.sk-toggleable__content {max-height: 0;max-width: 0;overflow: hidden;text-align: left;background-color: #f0f8ff;}#sk-container-id-1 div.sk-toggleable__content pre {margin: 0.2em;color: black;border-radius: 0.25em;background-color: #f0f8ff;}#sk-container-id-1 input.sk-toggleable__control:checked~div.sk-toggleable__content {max-height: 200px;max-width: 100%;overflow: auto;}#sk-container-id-1 input.sk-toggleable__control:checked~label.sk-toggleable__label-arrow:before {content: \"▾\";}#sk-container-id-1 div.sk-estimator input.sk-toggleable__control:checked~label.sk-toggleable__label {background-color: #d4ebff;}#sk-container-id-1 div.sk-label input.sk-toggleable__control:checked~label.sk-toggleable__label {background-color: #d4ebff;}#sk-container-id-1 input.sk-hidden--visually {border: 0;clip: rect(1px 1px 1px 1px);clip: rect(1px, 1px, 1px, 1px);height: 1px;margin: -1px;overflow: hidden;padding: 0;position: absolute;width: 1px;}#sk-container-id-1 div.sk-estimator {font-family: monospace;background-color: #f0f8ff;border: 1px dotted black;border-radius: 0.25em;box-sizing: border-box;margin-bottom: 0.5em;}#sk-container-id-1 div.sk-estimator:hover {background-color: #d4ebff;}#sk-container-id-1 div.sk-parallel-item::after {content: \"\";width: 100%;border-bottom: 1px solid gray;flex-grow: 1;}#sk-container-id-1 div.sk-label:hover label.sk-toggleable__label {background-color: #d4ebff;}#sk-container-id-1 div.sk-serial::before {content: \"\";position: absolute;border-left: 1px solid gray;box-sizing: border-box;top: 0;bottom: 0;left: 50%;z-index: 0;}#sk-container-id-1 div.sk-serial {display: flex;flex-direction: column;align-items: center;background-color: white;padding-right: 0.2em;padding-left: 0.2em;position: relative;}#sk-container-id-1 div.sk-item {position: relative;z-index: 1;}#sk-container-id-1 div.sk-parallel {display: flex;align-items: stretch;justify-content: center;background-color: white;position: relative;}#sk-container-id-1 div.sk-item::before, #sk-container-id-1 div.sk-parallel-item::before {content: \"\";position: absolute;border-left: 1px solid gray;box-sizing: border-box;top: 0;bottom: 0;left: 50%;z-index: -1;}#sk-container-id-1 div.sk-parallel-item {display: flex;flex-direction: column;z-index: 1;position: relative;background-color: white;}#sk-container-id-1 div.sk-parallel-item:first-child::after {align-self: flex-end;width: 50%;}#sk-container-id-1 div.sk-parallel-item:last-child::after {align-self: flex-start;width: 50%;}#sk-container-id-1 div.sk-parallel-item:only-child::after {width: 0;}#sk-container-id-1 div.sk-dashed-wrapped {border: 1px dashed gray;margin: 0 0.4em 0.5em 0.4em;box-sizing: border-box;padding-bottom: 0.4em;background-color: white;}#sk-container-id-1 div.sk-label label {font-family: monospace;font-weight: bold;display: inline-block;line-height: 1.2em;}#sk-container-id-1 div.sk-label-container {text-align: center;}#sk-container-id-1 div.sk-container {/* jupyter's `normalize.less` sets `[hidden] { display: none; }` but bootstrap.min.css set `[hidden] { display: none !important; }` so we also need the `!important` here to be able to override the default hidden behavior on the sphinx rendered scikit-learn.org. See: https://github.com/scikit-learn/scikit-learn/issues/21755 */display: inline-block !important;position: relative;}#sk-container-id-1 div.sk-text-repr-fallback {display: none;}</style><div id=\"sk-container-id-1\" class=\"sk-top-container\"><div class=\"sk-text-repr-fallback\"><pre>[add(cbrt(sqrt(inv(add(X0, 0.654)))), cbrt(X0))]</pre><b>In a Jupyter environment, please rerun this cell to show the HTML representation or trust the notebook. <br />On GitHub, the HTML representation is unable to render, please try loading this page with nbviewer.org.</b></div><div class=\"sk-container\" hidden><div class=\"sk-item\"><div class=\"sk-estimator sk-toggleable\"><input class=\"sk-toggleable__control sk-hidden--visually\" id=\"sk-estimator-id-1\" type=\"checkbox\" checked><label for=\"sk-estimator-id-1\" class=\"sk-toggleable__label sk-toggleable__label-arrow\">SymbolicTransformer</label><div class=\"sk-toggleable__content\"><pre>[add(cbrt(sqrt(inv(add(X0, 0.654)))), cbrt(X0))]</pre></div></div></div></div></div>"
            ]
          },
          "metadata": {},
          "execution_count": 13
        }
      ]
    },
    {
      "cell_type": "markdown",
      "source": [
        "После нелинейных преобразований составим линейную модель чтобы определить константы\n",
        "\n"
      ],
      "metadata": {
        "id": "SxNp3v4k2Qig"
      }
    },
    {
      "cell_type": "code",
      "source": [
        "#Make over our feature founded non-linear transformation and after make linear model with transformed feature\n",
        "gp_features = gp.transform(rho_train.reshape(-1, 1))\n",
        "new_X = pd.DataFrame(gp_features)\n",
        "\n",
        "est = LinearRegression()\n",
        "est.fit(new_X, exc_train)\n",
        "plt.title('Test R2 = '+str(sklearn.metrics.r2_score(exc_test, est.predict(gp.transform(rho_test.reshape(-1, 1)))).round(3)))\n",
        "\n",
        "#Check pair plot\n",
        "ax = ([plt.plot(est.predict(gp.transform(rho_test.reshape(-1, 1))), exc_test, 'ro'),\n",
        "       plt.plot(est.predict(gp.transform(rho_train.reshape(-1, 1))), exc_train, 'ro', color='b')]),\n",
        "plt.legend(['test', 'train'])\n",
        "plt.xlabel('analitical')\n",
        "plt.ylabel('predicted')\n"
      ],
      "metadata": {
        "colab": {
          "base_uri": "https://localhost:8080/",
          "height": 489
        },
        "id": "RybtrSYrfwyn",
        "outputId": "22a3cf9f-29a1-4c6d-fe8c-d5a9881348dd"
      },
      "execution_count": null,
      "outputs": [
        {
          "output_type": "execute_result",
          "data": {
            "text/plain": [
              "Text(0, 0.5, 'predicted')"
            ]
          },
          "metadata": {},
          "execution_count": 21
        },
        {
          "output_type": "display_data",
          "data": {
            "text/plain": [
              "<Figure size 640x480 with 1 Axes>"
            ],
            "image/png": "[encoded data removed]"
          },
          "metadata": {}
        }
      ]
    },
    {
      "cell_type": "markdown",
      "source": [
        "Извлечем полученный функционал из SymbolicTransformer и коэффициентов линейной регрессии"
      ],
      "metadata": {
        "id": "LObRgasx2bX7"
      }
    },
    {
      "cell_type": "code",
      "source": [
        "# Reciave our functional form\n",
        "def approximated_func(x):\n",
        "  return -0.96033992969024*(x**(1/3)+(1/(x+0.654))**(1/6)) + 1.051513354413\n",
        "\n",
        "est.coef_[0]*add(cbrt(sqrt(inv(add(x, 0.654)))), cbrt(x)) + est.intercept_"
      ],
      "metadata": {
        "colab": {
          "base_uri": "https://localhost:8080/",
          "height": 61
        },
        "id": "fZM-97v3n098",
        "outputId": "9bf22d1b-ac45-4788-9167-8fc1159de5ed"
      },
      "execution_count": null,
      "outputs": [
        {
          "output_type": "execute_result",
          "data": {
            "text/plain": [
              "-0.96033992969024*x**0.333333333333333 - 0.96033992969024*(1/(x + 0.654))**0.166666666666667 + 1.051513354413"
            ],
            "text/latex": "$\\displaystyle - 0.96033992969024 x^{0.333333333333333} - 0.96033992969024 \\left(\\frac{1}{x + 0.654}\\right)^{0.166666666666667} + 1.051513354413$"
          },
          "metadata": {},
          "execution_count": 15
        }
      ]
    },
    {
      "cell_type": "code",
      "source": [
        "def see_similarity2(approx_func, rho_train, exc_train, rho_test, exc_test):\n",
        "\n",
        "  plt.title('test R2 = ' + str(sklearn.metrics.r2_score(exc_test, approx_func(rho_test)).round(3)) +\n",
        "            ', RMSE = ' + str((sklearn.metrics.mean_squared_error(exc_test, approx_func(rho_test))*0.5).round(6)))\n",
        "\n",
        "  ax = ([plt.plot(rho_train, exc_train, 'ro', color='blue'), plt.plot(rho_test, exc_test, 'ro', color='red'),\n",
        "        plt.plot(rho_train, approx_func(rho_train), 'ro', color='green'), plt.plot(rho_test, approx_func(rho_test), '--', color='green')])\n",
        "  plt.xlabel('rho')\n",
        "  plt.ylabel('energy')\n",
        "  plt.legend(['train', 'test', 'approximation'])\n"
      ],
      "metadata": {
        "id": "GGzgVy1Xfw3c"
      },
      "execution_count": null,
      "outputs": []
    },
    {
      "cell_type": "markdown",
      "source": [
        "Посмотрим как аппроксимирующий функционал соотносится с нейросетевым функционалом"
      ],
      "metadata": {
        "id": "VjlDsk0B256K"
      }
    },
    {
      "cell_type": "code",
      "source": [
        "see_similarity2(approximated_func, rho_train, exc_train, rho_test, exc_test)"
      ],
      "metadata": {
        "colab": {
          "base_uri": "https://localhost:8080/",
          "height": 472
        },
        "id": "LIx3bA14f7ua",
        "outputId": "4850342e-c42c-46ae-a705-5bae1c58f75d"
      },
      "execution_count": null,
      "outputs": [
        {
          "output_type": "display_data",
          "data": {
            "text/plain": [
              "<Figure size 640x480 with 1 Axes>"
            ],
            "image/png": "[encoded data removed]"
          },
          "metadata": {}
        }
      ]
    },
    {
      "cell_type": "code",
      "source": [],
      "metadata": {
        "id": "7UrNCJx6hZm8"
      },
      "execution_count": null,
      "outputs": []
    }
  ]
}