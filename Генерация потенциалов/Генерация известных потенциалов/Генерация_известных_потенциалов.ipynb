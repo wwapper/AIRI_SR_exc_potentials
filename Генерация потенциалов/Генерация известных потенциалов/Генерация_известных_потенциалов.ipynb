{
  "nbformat": 4,
  "nbformat_minor": 0,
  "metadata": {
    "colab": {
      "provenance": []
    },
    "kernelspec": {
      "name": "python3",
      "display_name": "Python 3"
    },
    "language_info": {
      "name": "python"
    }
  },
  "cells": [
    {
      "cell_type": "markdown",
      "source": [
        "#Генерация известных потенциалов"
      ],
      "metadata": {
        "id": "-eiRhTgWsLoJ"
      }
    },
    {
      "cell_type": "markdown",
      "source": [
        "В данном ноутбуке происходит генерация известных потенциала в приближении LDA с помощью функционала пакета pycsf - lda_x, lda_c_chachiyo и lda_c_pw_mod. Результат - директории с соответствующими .csv файлами с двумя колонками: x_0 (электронная плотность в электронах на кубический бор) и y (величина посчитанного с помощью программного пакета потенциала)\n",
        "\n",
        "Сперва установим необходимые зависимости"
      ],
      "metadata": {
        "id": "850cJADFsPlR"
      }
    },
    {
      "cell_type": "code",
      "execution_count": 1,
      "metadata": {
        "colab": {
          "base_uri": "https://localhost:8080/"
        },
        "id": "8Pkdt4h2mK5T",
        "outputId": "08e6037f-02b2-43f5-be76-711081a45147"
      },
      "outputs": [
        {
          "output_type": "stream",
          "name": "stdout",
          "text": [
            "Collecting pyscf\n",
            "  Downloading pyscf-2.3.0-cp310-cp310-manylinux_2_17_x86_64.manylinux2014_x86_64.whl (47.2 MB)\n",
            "\u001b[2K     \u001b[90m━━━━━━━━━━━━━━━━━━━━━━━━━━━━━━━━━━━━━━━━\u001b[0m \u001b[32m47.2/47.2 MB\u001b[0m \u001b[31m11.5 MB/s\u001b[0m eta \u001b[36m0:00:00\u001b[0m\n",
            "\u001b[?25hRequirement already satisfied: numpy!=1.16,!=1.17,>=1.13 in /usr/local/lib/python3.10/dist-packages (from pyscf) (1.22.4)\n",
            "Requirement already satisfied: scipy!=1.5.0,!=1.5.1 in /usr/local/lib/python3.10/dist-packages (from pyscf) (1.10.1)\n",
            "Requirement already satisfied: h5py>=2.7 in /usr/local/lib/python3.10/dist-packages (from pyscf) (3.8.0)\n",
            "Installing collected packages: pyscf\n",
            "Successfully installed pyscf-2.3.0\n"
          ]
        }
      ],
      "source": [
        "!pip install pyscf"
      ]
    },
    {
      "cell_type": "code",
      "source": [
        "import pyscf\n",
        "import pandas as pd\n",
        "import numpy as np\n",
        "np.random.seed(10)\n",
        "import random\n",
        "random.seed(10)\n",
        "from typing import Tuple, Union, List, Dict, Callable, Any\n",
        "from pyscf import gto, dft\n",
        "from pyscf.dft import numint"
      ],
      "metadata": {
        "colab": {
          "base_uri": "https://localhost:8080/"
        },
        "id": "7iTrhSGxnZzc",
        "outputId": "c3accf64-a0c3-490a-d0c7-3a9a9d3e84aa"
      },
      "execution_count": 2,
      "outputs": [
        {
          "output_type": "stream",
          "name": "stderr",
          "text": [
            "/usr/local/lib/python3.10/dist-packages/pyscf/dft/libxc.py:772: UserWarning: Since PySCF-2.3, B3LYP (and B3P86) are changed to the VWN-RPA variant, the same to the B3LYP functional in Gaussian and ORCA (issue 1480). To restore the VWN5 definition, you can put the setting \"B3LYP_WITH_VWN5 = True\" in pyscf_conf.py\n",
            "  warnings.warn('Since PySCF-2.3, B3LYP (and B3P86) are changed to the VWN-RPA variant, '\n"
          ]
        }
      ]
    },
    {
      "cell_type": "markdown",
      "source": [
        "Для первого эксперимента сгенерируем электронную плотность в небольшом диапазоне. Однако, этого разброса значений хватьает, чтобы успешно считать многие квантовомеханические системы"
      ],
      "metadata": {
        "id": "sYcPg_H71T_D"
      }
    },
    {
      "cell_type": "code",
      "source": [
        "def generate_pseudopotentials(preudopotential):\n",
        "  !mkdir \"{preudopotential}\"\n",
        "  rho = np.concatenate([np.random.uniform(0, 200, 500), np.random.uniform(400, 600, 500), np.random.uniform(800, 1000, 500)])\n",
        "  rho_test = np.concatenate([np.random.uniform(200, 400, 500), np.random.uniform(600, 800, 500)])\n",
        "  exc, _, _, _ = dft.libxc.eval_xc(f\"{preudopotential}\", rho, spin=0)\n",
        "  exc_test, _, _, _ = dft.libxc.eval_xc(f\"{preudopotential}\", rho_test, spin=0)\n",
        "  pd.DataFrame({'x_0': rho, 'y': exc}).to_csv(f'{preudopotential}/{preudopotential}_first.csv', index=False)\n",
        "  pd.DataFrame({'x_0': rho_test, 'y': exc_test}).to_csv(f'{preudopotential}/{preudopotential}_test_first.csv', index=False)\n",
        "\n",
        "generate_pseudopotentials('lda_c_chachiyo')\n",
        "generate_pseudopotentials('lda_x')\n",
        "generate_pseudopotentials('lda_c_pw_mod')"
      ],
      "metadata": {
        "id": "bYyOH9L1yjns"
      },
      "execution_count": null,
      "outputs": []
    },
    {
      "cell_type": "markdown",
      "source": [
        "Проверим корректность расчета потенциалов, исходя из физического смысла сгенерированных потенциалов (обменного lda_x и корреляционного lda_c_pw_mod)"
      ],
      "metadata": {
        "id": "1-Mi0bWV-e-E"
      }
    },
    {
      "cell_type": "code",
      "source": [
        "rho = np.concatenate([np.random.uniform(0, 100, 500), np.random.uniform(200, 300, 500), np.random.uniform(400, 500, 500)], axis=0)\n",
        "\n",
        "exc_lda_x, _, _, _ = dft.libxc.eval_xc(\"lda_x\", rho, spin=0)\n",
        "exc_lda_c_pw_mod, _, _, _ = dft.libxc.eval_xc(\"lda_c_pw_mod\", rho, spin=0)\n",
        "exc_both, _, _, _ = dft.libxc.eval_xc(\"lda_x + lda_c_pw_mod\", rho, spin=0)\n",
        "\n",
        "print(set(exc_lda_x + exc_lda_c_pw_mod == exc_both))"
      ],
      "metadata": {
        "colab": {
          "base_uri": "https://localhost:8080/"
        },
        "id": "iKKTfw0xUoi-",
        "outputId": "c70e5cb2-2308-4a12-9ea0-94a332ddd524"
      },
      "execution_count": null,
      "outputs": [
        {
          "output_type": "stream",
          "name": "stdout",
          "text": [
            "{True}\n"
          ]
        }
      ]
    },
    {
      "cell_type": "markdown",
      "source": [
        "Далее, проведем расчет электронной плотности атома ртути в базисе UGBS. Максимальное значение (или около него) будет верхней границей для второго эксперимента с моделями символьной регрессии"
      ],
      "metadata": {
        "id": "FG4aSY24tRj-"
      }
    },
    {
      "cell_type": "code",
      "source": [
        "from pyscf import gto, dft\n",
        "from pyscf.dft import numint\n",
        "\n",
        "mol = gto.M(atom='Hg 0 0 0', basis='/content/ugbs.0.nw')\n",
        "\n",
        "mf_orig = dft.RKS(mol)\n",
        "mf_orig.xc = 'lda' #https://pyscf.org/user/dft.html\n",
        "mf_orig.kernel()\n",
        "dm = mf_orig.make_rdm1()\n",
        "\n",
        "coords = mf_orig.grids.coords\n",
        "weights = mf_orig.grids.weights\n",
        "ao_value = numint.eval_ao(mol, coords, deriv=0)\n",
        "\n",
        "rho = numint.eval_rho(mol, ao_value, dm, xctype='LDA')\n",
        "print(rho.max(), rho.min(), rho.mean())"
      ],
      "metadata": {
        "colab": {
          "base_uri": "https://localhost:8080/"
        },
        "id": "5vQlVF1ciCqj",
        "outputId": "2df7b979-c972-400e-e9be-9c1bc9b7e3b8"
      },
      "execution_count": 3,
      "outputs": [
        {
          "output_type": "stream",
          "name": "stdout",
          "text": [
            "converged SCF energy = -18395.9178664542\n",
            "364543.63191059907 1.2919395957932295e-11 7593.254119235434\n"
          ]
        }
      ]
    },
    {
      "cell_type": "markdown",
      "source": [
        "Первое значение - 364543.63191059907, - и есть нужная нам верхняя граница. Сгенерируем электронную плотность в диапазоне от 0 до 10e+6. Точки будем брать не равномерно, а как степени 10, чтобы покрыть весь диапазон и не работать с сильно большим числом точек"
      ],
      "metadata": {
        "id": "z6p2yIpithQY"
      }
    },
    {
      "cell_type": "code",
      "source": [
        "def generate_pseudopotentials(preudopotential):\n",
        "  !mkdir \"{preudopotential}\"\n",
        "  rho = 10**np.concatenate([np.random.uniform(-1, 1, 1000), np.random.uniform(3, 5, 1000)])\n",
        "  rho_test = 10**np.concatenate([np.random.uniform(-3, -1, 1000), np.random.uniform(1, 3, 1000), np.random.uniform(5, 6, 1000)])\n",
        "  exc, _, _, _ = dft.libxc.eval_xc(f\"{preudopotential}\", rho, spin=0)\n",
        "  exc_test, _, _, _ = dft.libxc.eval_xc(f\"{preudopotential}\", rho_test, spin=0)\n",
        "  pd.DataFrame({'x_0': rho, 'y': exc}).to_csv(f'{preudopotential}/{preudopotential}_second.csv', index=False)\n",
        "  pd.DataFrame({'x_0': rho_test, 'y': exc_test}).to_csv(f'{preudopotential}/{preudopotential}_test_second.csv', index=False)\n",
        "\n",
        "generate_pseudopotentials('lda_c_chachiyo')\n",
        "generate_pseudopotentials('lda_x')\n",
        "generate_pseudopotentials('lda_c_pw_mod')"
      ],
      "metadata": {
        "colab": {
          "base_uri": "https://localhost:8080/"
        },
        "id": "eRMDYSaZjlQv",
        "outputId": "2f2422eb-3107-4112-e974-685eadf71a0a"
      },
      "execution_count": 4,
      "outputs": [
        {
          "output_type": "stream",
          "name": "stdout",
          "text": [
            "mkdir: cannot create directory ‘lda_c_chachiyo’: File exists\n",
            "mkdir: cannot create directory ‘lda_x’: File exists\n",
            "mkdir: cannot create directory ‘lda_x_1d_exponential’: File exists\n",
            "mkdir: cannot create directory ‘lda_c_1d_csc’: File exists\n",
            "mkdir: cannot create directory ‘lda_c_1d_loos’: File exists\n",
            "mkdir: cannot create directory ‘lda_c_pw_mod’: File exists\n"
          ]
        }
      ]
    }
  ]
}