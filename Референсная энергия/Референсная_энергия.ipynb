{
  "nbformat": 4,
  "nbformat_minor": 0,
  "metadata": {
    "colab": {
      "provenance": []
    },
    "kernelspec": {
      "name": "python3",
      "display_name": "Python 3"
    },
    "language_info": {
      "name": "python"
    }
  },
  "cells": [
    {
      "cell_type": "markdown",
      "source": [
        "#Референсное значение энергии SCF (Self-consistent field), посчитанной для молекулы H2O с помощью программного пакета pycsf"
      ],
      "metadata": {
        "id": "cDUD90oL2Fft"
      }
    },
    {
      "cell_type": "markdown",
      "source": [
        "Установим необходимые зависимости"
      ],
      "metadata": {
        "id": "b3gXeImu4hiF"
      }
    },
    {
      "cell_type": "code",
      "source": [
        "!pip install pyscf\n",
        "!pip install torch"
      ],
      "metadata": {
        "colab": {
          "base_uri": "https://localhost:8080/"
        },
        "id": "6iT4MYQ-00ju",
        "outputId": "a0698db1-49a4-415b-d7cf-f77b90a39878"
      },
      "execution_count": 1,
      "outputs": [
        {
          "output_type": "stream",
          "name": "stdout",
          "text": [
            "Collecting pyscf\n",
            "  Downloading pyscf-2.3.0-cp310-cp310-manylinux_2_17_x86_64.manylinux2014_x86_64.whl (47.2 MB)\n",
            "\u001b[2K     \u001b[90m━━━━━━━━━━━━━━━━━━━━━━━━━━━━━━━━━━━━━━━━\u001b[0m \u001b[32m47.2/47.2 MB\u001b[0m \u001b[31m9.2 MB/s\u001b[0m eta \u001b[36m0:00:00\u001b[0m\n",
            "\u001b[?25hRequirement already satisfied: numpy!=1.16,!=1.17,>=1.13 in /usr/local/lib/python3.10/dist-packages (from pyscf) (1.22.4)\n",
            "Requirement already satisfied: scipy!=1.5.0,!=1.5.1 in /usr/local/lib/python3.10/dist-packages (from pyscf) (1.10.1)\n",
            "Requirement already satisfied: h5py>=2.7 in /usr/local/lib/python3.10/dist-packages (from pyscf) (3.8.0)\n",
            "Installing collected packages: pyscf\n",
            "Successfully installed pyscf-2.3.0\n",
            "Requirement already satisfied: torch in /usr/local/lib/python3.10/dist-packages (2.0.1+cu118)\n",
            "Requirement already satisfied: filelock in /usr/local/lib/python3.10/dist-packages (from torch) (3.12.2)\n",
            "Requirement already satisfied: typing-extensions in /usr/local/lib/python3.10/dist-packages (from torch) (4.7.1)\n",
            "Requirement already satisfied: sympy in /usr/local/lib/python3.10/dist-packages (from torch) (1.11.1)\n",
            "Requirement already satisfied: networkx in /usr/local/lib/python3.10/dist-packages (from torch) (3.1)\n",
            "Requirement already satisfied: jinja2 in /usr/local/lib/python3.10/dist-packages (from torch) (3.1.2)\n",
            "Requirement already satisfied: triton==2.0.0 in /usr/local/lib/python3.10/dist-packages (from torch) (2.0.0)\n",
            "Requirement already satisfied: cmake in /usr/local/lib/python3.10/dist-packages (from triton==2.0.0->torch) (3.25.2)\n",
            "Requirement already satisfied: lit in /usr/local/lib/python3.10/dist-packages (from triton==2.0.0->torch) (16.0.6)\n",
            "Requirement already satisfied: MarkupSafe>=2.0 in /usr/local/lib/python3.10/dist-packages (from jinja2->torch) (2.1.3)\n",
            "Requirement already satisfied: mpmath>=0.19 in /usr/local/lib/python3.10/dist-packages (from sympy->torch) (1.3.0)\n"
          ]
        }
      ]
    },
    {
      "cell_type": "code",
      "source": [
        "import pyscf\n",
        "import torch\n",
        "import numpy as np\n",
        "import random\n",
        "from typing import Tuple, Union, List, Dict, Callable, Any\n",
        "from pyscf import dft\n"
      ],
      "metadata": {
        "colab": {
          "base_uri": "https://localhost:8080/"
        },
        "id": "SDfxNEeW07_U",
        "outputId": "f71b36a3-c077-4173-b21d-ff9b1e014efd"
      },
      "execution_count": 2,
      "outputs": [
        {
          "output_type": "stream",
          "name": "stderr",
          "text": [
            "/usr/local/lib/python3.10/dist-packages/pyscf/dft/libxc.py:772: UserWarning: Since PySCF-2.3, B3LYP (and B3P86) are changed to the VWN-RPA variant, the same to the B3LYP functional in Gaussian and ORCA (issue 1480). To restore the VWN5 definition, you can put the setting \"B3LYP_WITH_VWN5 = True\" in pyscf_conf.py\n",
            "  warnings.warn('Since PySCF-2.3, B3LYP (and B3P86) are changed to the VWN-RPA variant, '\n"
          ]
        }
      ]
    },
    {
      "cell_type": "markdown",
      "source": [
        "Приступим непосредственно к расчету энергии. Нас интересует значение в последней строчке вывода - это и есть корректное значение, с которым следует сравнивать энергии, полученные с помощью других функционалов"
      ],
      "metadata": {
        "id": "lftKcgjr4n71"
      }
    },
    {
      "cell_type": "code",
      "source": [
        "from pyscf.dft import numint\n",
        "from pyscf import gto\n",
        "from pyscf import dft\n",
        "\n",
        "mol = gto.M(\n",
        "    atom = '''\n",
        "    O  0.   0.       0.\n",
        "    H  0.   -0.757   0.587\n",
        "    H  0.   0.757    0.587 ''',\n",
        "    basis = '6-31G')\n",
        "\n",
        "mf_orig = dft.RKS(mol)\n",
        "mf_orig.xc = 'lda_x, lda_c_chachiyo'\n",
        "mf_orig.kernel()"
      ],
      "metadata": {
        "colab": {
          "base_uri": "https://localhost:8080/"
        },
        "id": "A3t0KOpD48PX",
        "outputId": "5f2eec51-4d4d-423a-c1f9-995068b3c391"
      },
      "execution_count": 3,
      "outputs": [
        {
          "output_type": "stream",
          "name": "stdout",
          "text": [
            "converged SCF energy = -75.7996656368748\n"
          ]
        },
        {
          "output_type": "execute_result",
          "data": {
            "text/plain": [
              "-75.79966563687479"
            ]
          },
          "metadata": {},
          "execution_count": 3
        }
      ]
    }
  ]
}